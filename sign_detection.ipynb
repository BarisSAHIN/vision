{
  "nbformat": 4,
  "nbformat_minor": 0,
  "metadata": {
    "colab": {
      "name": "sign_detection.ipynb",
      "version": "0.3.2",
      "provenance": [],
      "collapsed_sections": [],
      "include_colab_link": true
    },
    "kernelspec": {
      "name": "python3",
      "display_name": "Python 3"
    }
  },
  "cells": [
    {
      "cell_type": "markdown",
      "metadata": {
        "id": "view-in-github",
        "colab_type": "text"
      },
      "source": [
        "<a href=\"https://colab.research.google.com/github/BarisSAHIN/vision/blob/master/sign_detection.ipynb\" target=\"_parent\"><img src=\"https://colab.research.google.com/assets/colab-badge.svg\" alt=\"Open In Colab\"/></a>"
      ]
    },
    {
      "metadata": {
        "id": "FXqofE8S7r5C",
        "colab_type": "text"
      },
      "cell_type": "markdown",
      "source": [
        "GTU Autonomous vehicle sign detection "
      ]
    },
    {
      "metadata": {
        "id": "nPknq7eIXr6U",
        "colab_type": "text"
      },
      "cell_type": "markdown",
      "source": [
        "Barış ŞAHİN"
      ]
    },
    {
      "metadata": {
        "id": "LPe6pX0Y7qCt",
        "colab_type": "code",
        "colab": {}
      },
      "cell_type": "code",
      "source": [
        ""
      ],
      "execution_count": 0,
      "outputs": []
    }
  ]
}